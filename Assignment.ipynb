{
 "cells": [
  {
   "cell_type": "markdown",
   "id": "f86e614a",
   "metadata": {},
   "source": [
    "# Exercise 0 : Import Libraries"
   ]
  },
  {
   "cell_type": "code",
   "execution_count": 1,
   "id": "1b50ba79",
   "metadata": {},
   "outputs": [],
   "source": [
    "import numpy as np\n",
    "import pandas as pd\n",
    "import matplotlib.pyplot as plt\n",
    "%matplotlib inline\n",
    "import seaborn as sns\n",
    "import plotly.express as px\n",
    "\n",
    "from sklearn.metrics import r2_score, mean_squared_error, mean_absolute_error\n",
    "from sklearn.model_selection import train_test_split\n",
    "from sklearn.linear_model import LogisticRegression\n",
    "from sklearn.linear_model import Lasso, Ridge, ElasticNet\n",
    "from sklearn.metrics import accuracy_score,confusion_matrix, recall_score, precision_score, f1_score, roc_auc_score"
   ]
  },
  {
   "cell_type": "markdown",
   "id": "3d928ac2",
   "metadata": {},
   "source": [
    "# Exercise 1 : Read the Dataset"
   ]
  },
  {
   "cell_type": "code",
   "execution_count": 2,
   "id": "cff95582",
   "metadata": {},
   "outputs": [
    {
     "data": {
      "text/html": [
       "<div>\n",
       "<style scoped>\n",
       "    .dataframe tbody tr th:only-of-type {\n",
       "        vertical-align: middle;\n",
       "    }\n",
       "\n",
       "    .dataframe tbody tr th {\n",
       "        vertical-align: top;\n",
       "    }\n",
       "\n",
       "    .dataframe thead th {\n",
       "        text-align: right;\n",
       "    }\n",
       "</style>\n",
       "<table border=\"1\" class=\"dataframe\">\n",
       "  <thead>\n",
       "    <tr style=\"text-align: right;\">\n",
       "      <th></th>\n",
       "      <th>Unnamed: 0</th>\n",
       "      <th>age</th>\n",
       "      <th>sex</th>\n",
       "      <th>cp</th>\n",
       "      <th>trestbps</th>\n",
       "      <th>chol</th>\n",
       "      <th>fbs</th>\n",
       "      <th>restecg</th>\n",
       "      <th>thalach</th>\n",
       "      <th>exang</th>\n",
       "      <th>oldpeak</th>\n",
       "      <th>slope</th>\n",
       "      <th>ca</th>\n",
       "      <th>thal</th>\n",
       "      <th>present</th>\n",
       "    </tr>\n",
       "  </thead>\n",
       "  <tbody>\n",
       "    <tr>\n",
       "      <th>0</th>\n",
       "      <td>1</td>\n",
       "      <td>63</td>\n",
       "      <td>1</td>\n",
       "      <td>1</td>\n",
       "      <td>145</td>\n",
       "      <td>233</td>\n",
       "      <td>1</td>\n",
       "      <td>2</td>\n",
       "      <td>150</td>\n",
       "      <td>0</td>\n",
       "      <td>2.3</td>\n",
       "      <td>3</td>\n",
       "      <td>0.0</td>\n",
       "      <td>6.0</td>\n",
       "      <td>0</td>\n",
       "    </tr>\n",
       "    <tr>\n",
       "      <th>1</th>\n",
       "      <td>2</td>\n",
       "      <td>67</td>\n",
       "      <td>1</td>\n",
       "      <td>4</td>\n",
       "      <td>160</td>\n",
       "      <td>286</td>\n",
       "      <td>0</td>\n",
       "      <td>2</td>\n",
       "      <td>108</td>\n",
       "      <td>1</td>\n",
       "      <td>1.5</td>\n",
       "      <td>2</td>\n",
       "      <td>3.0</td>\n",
       "      <td>3.0</td>\n",
       "      <td>1</td>\n",
       "    </tr>\n",
       "    <tr>\n",
       "      <th>2</th>\n",
       "      <td>3</td>\n",
       "      <td>67</td>\n",
       "      <td>1</td>\n",
       "      <td>4</td>\n",
       "      <td>120</td>\n",
       "      <td>229</td>\n",
       "      <td>0</td>\n",
       "      <td>2</td>\n",
       "      <td>129</td>\n",
       "      <td>1</td>\n",
       "      <td>2.6</td>\n",
       "      <td>2</td>\n",
       "      <td>2.0</td>\n",
       "      <td>7.0</td>\n",
       "      <td>1</td>\n",
       "    </tr>\n",
       "    <tr>\n",
       "      <th>3</th>\n",
       "      <td>4</td>\n",
       "      <td>37</td>\n",
       "      <td>1</td>\n",
       "      <td>3</td>\n",
       "      <td>130</td>\n",
       "      <td>250</td>\n",
       "      <td>0</td>\n",
       "      <td>0</td>\n",
       "      <td>187</td>\n",
       "      <td>0</td>\n",
       "      <td>3.5</td>\n",
       "      <td>3</td>\n",
       "      <td>0.0</td>\n",
       "      <td>3.0</td>\n",
       "      <td>0</td>\n",
       "    </tr>\n",
       "    <tr>\n",
       "      <th>4</th>\n",
       "      <td>5</td>\n",
       "      <td>41</td>\n",
       "      <td>0</td>\n",
       "      <td>2</td>\n",
       "      <td>130</td>\n",
       "      <td>204</td>\n",
       "      <td>0</td>\n",
       "      <td>2</td>\n",
       "      <td>172</td>\n",
       "      <td>0</td>\n",
       "      <td>1.4</td>\n",
       "      <td>1</td>\n",
       "      <td>0.0</td>\n",
       "      <td>3.0</td>\n",
       "      <td>0</td>\n",
       "    </tr>\n",
       "  </tbody>\n",
       "</table>\n",
       "</div>"
      ],
      "text/plain": [
       "   Unnamed: 0  age  sex  cp  trestbps  chol  fbs  restecg  thalach  exang  \\\n",
       "0           1   63    1   1       145   233    1        2      150      0   \n",
       "1           2   67    1   4       160   286    0        2      108      1   \n",
       "2           3   67    1   4       120   229    0        2      129      1   \n",
       "3           4   37    1   3       130   250    0        0      187      0   \n",
       "4           5   41    0   2       130   204    0        2      172      0   \n",
       "\n",
       "   oldpeak  slope   ca thal  present  \n",
       "0      2.3      3  0.0  6.0        0  \n",
       "1      1.5      2  3.0  3.0        1  \n",
       "2      2.6      2  2.0  7.0        1  \n",
       "3      3.5      3  0.0  3.0        0  \n",
       "4      1.4      1  0.0  3.0        0  "
      ]
     },
     "execution_count": 2,
     "metadata": {},
     "output_type": "execute_result"
    }
   ],
   "source": [
    "df = pd.read_csv(\"heart_disease.csv\")\n",
    "df.head()"
   ]
  },
  {
   "cell_type": "markdown",
   "id": "a68012bb",
   "metadata": {},
   "source": [
    "# Exercise 2 : Drop Unnamed: 0 column"
   ]
  },
  {
   "cell_type": "code",
   "execution_count": 3,
   "id": "9c9a61a8",
   "metadata": {},
   "outputs": [
    {
     "data": {
      "text/html": [
       "<div>\n",
       "<style scoped>\n",
       "    .dataframe tbody tr th:only-of-type {\n",
       "        vertical-align: middle;\n",
       "    }\n",
       "\n",
       "    .dataframe tbody tr th {\n",
       "        vertical-align: top;\n",
       "    }\n",
       "\n",
       "    .dataframe thead th {\n",
       "        text-align: right;\n",
       "    }\n",
       "</style>\n",
       "<table border=\"1\" class=\"dataframe\">\n",
       "  <thead>\n",
       "    <tr style=\"text-align: right;\">\n",
       "      <th></th>\n",
       "      <th>age</th>\n",
       "      <th>sex</th>\n",
       "      <th>cp</th>\n",
       "      <th>trestbps</th>\n",
       "      <th>chol</th>\n",
       "      <th>fbs</th>\n",
       "      <th>restecg</th>\n",
       "      <th>thalach</th>\n",
       "      <th>exang</th>\n",
       "      <th>oldpeak</th>\n",
       "      <th>slope</th>\n",
       "      <th>ca</th>\n",
       "      <th>thal</th>\n",
       "      <th>present</th>\n",
       "    </tr>\n",
       "  </thead>\n",
       "  <tbody>\n",
       "    <tr>\n",
       "      <th>0</th>\n",
       "      <td>63</td>\n",
       "      <td>1</td>\n",
       "      <td>1</td>\n",
       "      <td>145</td>\n",
       "      <td>233</td>\n",
       "      <td>1</td>\n",
       "      <td>2</td>\n",
       "      <td>150</td>\n",
       "      <td>0</td>\n",
       "      <td>2.3</td>\n",
       "      <td>3</td>\n",
       "      <td>0.0</td>\n",
       "      <td>6.0</td>\n",
       "      <td>0</td>\n",
       "    </tr>\n",
       "    <tr>\n",
       "      <th>1</th>\n",
       "      <td>67</td>\n",
       "      <td>1</td>\n",
       "      <td>4</td>\n",
       "      <td>160</td>\n",
       "      <td>286</td>\n",
       "      <td>0</td>\n",
       "      <td>2</td>\n",
       "      <td>108</td>\n",
       "      <td>1</td>\n",
       "      <td>1.5</td>\n",
       "      <td>2</td>\n",
       "      <td>3.0</td>\n",
       "      <td>3.0</td>\n",
       "      <td>1</td>\n",
       "    </tr>\n",
       "    <tr>\n",
       "      <th>2</th>\n",
       "      <td>67</td>\n",
       "      <td>1</td>\n",
       "      <td>4</td>\n",
       "      <td>120</td>\n",
       "      <td>229</td>\n",
       "      <td>0</td>\n",
       "      <td>2</td>\n",
       "      <td>129</td>\n",
       "      <td>1</td>\n",
       "      <td>2.6</td>\n",
       "      <td>2</td>\n",
       "      <td>2.0</td>\n",
       "      <td>7.0</td>\n",
       "      <td>1</td>\n",
       "    </tr>\n",
       "    <tr>\n",
       "      <th>3</th>\n",
       "      <td>37</td>\n",
       "      <td>1</td>\n",
       "      <td>3</td>\n",
       "      <td>130</td>\n",
       "      <td>250</td>\n",
       "      <td>0</td>\n",
       "      <td>0</td>\n",
       "      <td>187</td>\n",
       "      <td>0</td>\n",
       "      <td>3.5</td>\n",
       "      <td>3</td>\n",
       "      <td>0.0</td>\n",
       "      <td>3.0</td>\n",
       "      <td>0</td>\n",
       "    </tr>\n",
       "    <tr>\n",
       "      <th>4</th>\n",
       "      <td>41</td>\n",
       "      <td>0</td>\n",
       "      <td>2</td>\n",
       "      <td>130</td>\n",
       "      <td>204</td>\n",
       "      <td>0</td>\n",
       "      <td>2</td>\n",
       "      <td>172</td>\n",
       "      <td>0</td>\n",
       "      <td>1.4</td>\n",
       "      <td>1</td>\n",
       "      <td>0.0</td>\n",
       "      <td>3.0</td>\n",
       "      <td>0</td>\n",
       "    </tr>\n",
       "  </tbody>\n",
       "</table>\n",
       "</div>"
      ],
      "text/plain": [
       "   age  sex  cp  trestbps  chol  fbs  restecg  thalach  exang  oldpeak  slope  \\\n",
       "0   63    1   1       145   233    1        2      150      0      2.3      3   \n",
       "1   67    1   4       160   286    0        2      108      1      1.5      2   \n",
       "2   67    1   4       120   229    0        2      129      1      2.6      2   \n",
       "3   37    1   3       130   250    0        0      187      0      3.5      3   \n",
       "4   41    0   2       130   204    0        2      172      0      1.4      1   \n",
       "\n",
       "    ca thal  present  \n",
       "0  0.0  6.0        0  \n",
       "1  3.0  3.0        1  \n",
       "2  2.0  7.0        1  \n",
       "3  0.0  3.0        0  \n",
       "4  0.0  3.0        0  "
      ]
     },
     "execution_count": 3,
     "metadata": {},
     "output_type": "execute_result"
    }
   ],
   "source": [
    "df.drop('Unnamed: 0', axis=1, inplace=True)\n",
    "df.head()"
   ]
  },
  {
   "cell_type": "markdown",
   "id": "9cb75e8c",
   "metadata": {},
   "source": [
    "# Exercise 3 : EDA\n",
    "\n",
    "1. Basic info.\n",
    "2. Number of rows and columns.\n",
    "3. Statistical describtion.\n",
    "4. Columns names.\n",
    "5. Explore the columns ca and thal using any technique."
   ]
  },
  {
   "cell_type": "code",
   "execution_count": 4,
   "id": "30e1c0e4",
   "metadata": {},
   "outputs": [
    {
     "name": "stdout",
     "output_type": "stream",
     "text": [
      "<class 'pandas.core.frame.DataFrame'>\n",
      "RangeIndex: 303 entries, 0 to 302\n",
      "Data columns (total 14 columns):\n",
      " #   Column    Non-Null Count  Dtype  \n",
      "---  ------    --------------  -----  \n",
      " 0   age       303 non-null    int64  \n",
      " 1   sex       303 non-null    int64  \n",
      " 2   cp        303 non-null    int64  \n",
      " 3   trestbps  303 non-null    int64  \n",
      " 4   chol      303 non-null    int64  \n",
      " 5   fbs       303 non-null    int64  \n",
      " 6   restecg   303 non-null    int64  \n",
      " 7   thalach   303 non-null    int64  \n",
      " 8   exang     303 non-null    int64  \n",
      " 9   oldpeak   303 non-null    float64\n",
      " 10  slope     303 non-null    int64  \n",
      " 11  ca        303 non-null    object \n",
      " 12  thal      303 non-null    object \n",
      " 13  present   303 non-null    int64  \n",
      "dtypes: float64(1), int64(11), object(2)\n",
      "memory usage: 33.3+ KB\n"
     ]
    }
   ],
   "source": [
    "df.info()"
   ]
  },
  {
   "cell_type": "code",
   "execution_count": 5,
   "id": "4a97ca5c",
   "metadata": {},
   "outputs": [
    {
     "data": {
      "text/plain": [
       "(303, 14)"
      ]
     },
     "execution_count": 5,
     "metadata": {},
     "output_type": "execute_result"
    }
   ],
   "source": [
    "df.shape"
   ]
  },
  {
   "cell_type": "code",
   "execution_count": 6,
   "id": "02e84d6b",
   "metadata": {},
   "outputs": [
    {
     "data": {
      "text/html": [
       "<div>\n",
       "<style scoped>\n",
       "    .dataframe tbody tr th:only-of-type {\n",
       "        vertical-align: middle;\n",
       "    }\n",
       "\n",
       "    .dataframe tbody tr th {\n",
       "        vertical-align: top;\n",
       "    }\n",
       "\n",
       "    .dataframe thead th {\n",
       "        text-align: right;\n",
       "    }\n",
       "</style>\n",
       "<table border=\"1\" class=\"dataframe\">\n",
       "  <thead>\n",
       "    <tr style=\"text-align: right;\">\n",
       "      <th></th>\n",
       "      <th>age</th>\n",
       "      <th>sex</th>\n",
       "      <th>cp</th>\n",
       "      <th>trestbps</th>\n",
       "      <th>chol</th>\n",
       "      <th>fbs</th>\n",
       "      <th>restecg</th>\n",
       "      <th>thalach</th>\n",
       "      <th>exang</th>\n",
       "      <th>oldpeak</th>\n",
       "      <th>slope</th>\n",
       "      <th>present</th>\n",
       "    </tr>\n",
       "  </thead>\n",
       "  <tbody>\n",
       "    <tr>\n",
       "      <th>count</th>\n",
       "      <td>303.000000</td>\n",
       "      <td>303.000000</td>\n",
       "      <td>303.000000</td>\n",
       "      <td>303.000000</td>\n",
       "      <td>303.000000</td>\n",
       "      <td>303.000000</td>\n",
       "      <td>303.000000</td>\n",
       "      <td>303.000000</td>\n",
       "      <td>303.000000</td>\n",
       "      <td>303.000000</td>\n",
       "      <td>303.000000</td>\n",
       "      <td>303.000000</td>\n",
       "    </tr>\n",
       "    <tr>\n",
       "      <th>mean</th>\n",
       "      <td>54.438944</td>\n",
       "      <td>0.679868</td>\n",
       "      <td>3.158416</td>\n",
       "      <td>131.689769</td>\n",
       "      <td>246.693069</td>\n",
       "      <td>0.148515</td>\n",
       "      <td>0.990099</td>\n",
       "      <td>149.607261</td>\n",
       "      <td>0.326733</td>\n",
       "      <td>1.039604</td>\n",
       "      <td>1.600660</td>\n",
       "      <td>0.458746</td>\n",
       "    </tr>\n",
       "    <tr>\n",
       "      <th>std</th>\n",
       "      <td>9.038662</td>\n",
       "      <td>0.467299</td>\n",
       "      <td>0.960126</td>\n",
       "      <td>17.599748</td>\n",
       "      <td>51.776918</td>\n",
       "      <td>0.356198</td>\n",
       "      <td>0.994971</td>\n",
       "      <td>22.875003</td>\n",
       "      <td>0.469794</td>\n",
       "      <td>1.161075</td>\n",
       "      <td>0.616226</td>\n",
       "      <td>0.499120</td>\n",
       "    </tr>\n",
       "    <tr>\n",
       "      <th>min</th>\n",
       "      <td>29.000000</td>\n",
       "      <td>0.000000</td>\n",
       "      <td>1.000000</td>\n",
       "      <td>94.000000</td>\n",
       "      <td>126.000000</td>\n",
       "      <td>0.000000</td>\n",
       "      <td>0.000000</td>\n",
       "      <td>71.000000</td>\n",
       "      <td>0.000000</td>\n",
       "      <td>0.000000</td>\n",
       "      <td>1.000000</td>\n",
       "      <td>0.000000</td>\n",
       "    </tr>\n",
       "    <tr>\n",
       "      <th>25%</th>\n",
       "      <td>48.000000</td>\n",
       "      <td>0.000000</td>\n",
       "      <td>3.000000</td>\n",
       "      <td>120.000000</td>\n",
       "      <td>211.000000</td>\n",
       "      <td>0.000000</td>\n",
       "      <td>0.000000</td>\n",
       "      <td>133.500000</td>\n",
       "      <td>0.000000</td>\n",
       "      <td>0.000000</td>\n",
       "      <td>1.000000</td>\n",
       "      <td>0.000000</td>\n",
       "    </tr>\n",
       "    <tr>\n",
       "      <th>50%</th>\n",
       "      <td>56.000000</td>\n",
       "      <td>1.000000</td>\n",
       "      <td>3.000000</td>\n",
       "      <td>130.000000</td>\n",
       "      <td>241.000000</td>\n",
       "      <td>0.000000</td>\n",
       "      <td>1.000000</td>\n",
       "      <td>153.000000</td>\n",
       "      <td>0.000000</td>\n",
       "      <td>0.800000</td>\n",
       "      <td>2.000000</td>\n",
       "      <td>0.000000</td>\n",
       "    </tr>\n",
       "    <tr>\n",
       "      <th>75%</th>\n",
       "      <td>61.000000</td>\n",
       "      <td>1.000000</td>\n",
       "      <td>4.000000</td>\n",
       "      <td>140.000000</td>\n",
       "      <td>275.000000</td>\n",
       "      <td>0.000000</td>\n",
       "      <td>2.000000</td>\n",
       "      <td>166.000000</td>\n",
       "      <td>1.000000</td>\n",
       "      <td>1.600000</td>\n",
       "      <td>2.000000</td>\n",
       "      <td>1.000000</td>\n",
       "    </tr>\n",
       "    <tr>\n",
       "      <th>max</th>\n",
       "      <td>77.000000</td>\n",
       "      <td>1.000000</td>\n",
       "      <td>4.000000</td>\n",
       "      <td>200.000000</td>\n",
       "      <td>564.000000</td>\n",
       "      <td>1.000000</td>\n",
       "      <td>2.000000</td>\n",
       "      <td>202.000000</td>\n",
       "      <td>1.000000</td>\n",
       "      <td>6.200000</td>\n",
       "      <td>3.000000</td>\n",
       "      <td>1.000000</td>\n",
       "    </tr>\n",
       "  </tbody>\n",
       "</table>\n",
       "</div>"
      ],
      "text/plain": [
       "              age         sex          cp    trestbps        chol         fbs  \\\n",
       "count  303.000000  303.000000  303.000000  303.000000  303.000000  303.000000   \n",
       "mean    54.438944    0.679868    3.158416  131.689769  246.693069    0.148515   \n",
       "std      9.038662    0.467299    0.960126   17.599748   51.776918    0.356198   \n",
       "min     29.000000    0.000000    1.000000   94.000000  126.000000    0.000000   \n",
       "25%     48.000000    0.000000    3.000000  120.000000  211.000000    0.000000   \n",
       "50%     56.000000    1.000000    3.000000  130.000000  241.000000    0.000000   \n",
       "75%     61.000000    1.000000    4.000000  140.000000  275.000000    0.000000   \n",
       "max     77.000000    1.000000    4.000000  200.000000  564.000000    1.000000   \n",
       "\n",
       "          restecg     thalach       exang     oldpeak       slope     present  \n",
       "count  303.000000  303.000000  303.000000  303.000000  303.000000  303.000000  \n",
       "mean     0.990099  149.607261    0.326733    1.039604    1.600660    0.458746  \n",
       "std      0.994971   22.875003    0.469794    1.161075    0.616226    0.499120  \n",
       "min      0.000000   71.000000    0.000000    0.000000    1.000000    0.000000  \n",
       "25%      0.000000  133.500000    0.000000    0.000000    1.000000    0.000000  \n",
       "50%      1.000000  153.000000    0.000000    0.800000    2.000000    0.000000  \n",
       "75%      2.000000  166.000000    1.000000    1.600000    2.000000    1.000000  \n",
       "max      2.000000  202.000000    1.000000    6.200000    3.000000    1.000000  "
      ]
     },
     "execution_count": 6,
     "metadata": {},
     "output_type": "execute_result"
    }
   ],
   "source": [
    "df.describe()"
   ]
  },
  {
   "cell_type": "code",
   "execution_count": 7,
   "id": "264924ee",
   "metadata": {},
   "outputs": [
    {
     "data": {
      "text/plain": [
       "Index(['age', 'sex', 'cp', 'trestbps', 'chol', 'fbs', 'restecg', 'thalach',\n",
       "       'exang', 'oldpeak', 'slope', 'ca', 'thal', 'present'],\n",
       "      dtype='object')"
      ]
     },
     "execution_count": 7,
     "metadata": {},
     "output_type": "execute_result"
    }
   ],
   "source": [
    "df.columns"
   ]
  },
  {
   "cell_type": "code",
   "execution_count": 8,
   "id": "e111af83",
   "metadata": {},
   "outputs": [
    {
     "data": {
      "text/plain": [
       "0.0    176\n",
       "1.0     65\n",
       "2.0     38\n",
       "3.0     20\n",
       "?        4\n",
       "Name: ca, dtype: int64"
      ]
     },
     "execution_count": 8,
     "metadata": {},
     "output_type": "execute_result"
    }
   ],
   "source": [
    "df['ca'].value_counts()"
   ]
  },
  {
   "cell_type": "code",
   "execution_count": 9,
   "id": "3e4684e8",
   "metadata": {},
   "outputs": [
    {
     "data": {
      "text/plain": [
       "3.0    166\n",
       "7.0    117\n",
       "6.0     18\n",
       "?        2\n",
       "Name: thal, dtype: int64"
      ]
     },
     "execution_count": 9,
     "metadata": {},
     "output_type": "execute_result"
    }
   ],
   "source": [
    "df['thal'].value_counts()"
   ]
  },
  {
   "cell_type": "code",
   "execution_count": 10,
   "id": "d994a31a",
   "metadata": {},
   "outputs": [],
   "source": [
    "df = df[df['ca'] != '?']\n",
    "df = df[df['thal'] != '?']"
   ]
  },
  {
   "cell_type": "code",
   "execution_count": 11,
   "id": "163ec614",
   "metadata": {},
   "outputs": [
    {
     "data": {
      "text/plain": [
       "0.0    174\n",
       "1.0     65\n",
       "2.0     38\n",
       "3.0     20\n",
       "Name: ca, dtype: int64"
      ]
     },
     "execution_count": 11,
     "metadata": {},
     "output_type": "execute_result"
    }
   ],
   "source": [
    "df['ca'].value_counts()"
   ]
  },
  {
   "cell_type": "code",
   "execution_count": 12,
   "id": "04766bd5",
   "metadata": {},
   "outputs": [
    {
     "data": {
      "text/plain": [
       "3.0    164\n",
       "7.0    115\n",
       "6.0     18\n",
       "Name: thal, dtype: int64"
      ]
     },
     "execution_count": 12,
     "metadata": {},
     "output_type": "execute_result"
    }
   ],
   "source": [
    "df['thal'].value_counts()"
   ]
  },
  {
   "cell_type": "markdown",
   "id": "acf76c7e",
   "metadata": {},
   "source": [
    "# Exercise 4 : Handle missing data"
   ]
  },
  {
   "cell_type": "code",
   "execution_count": 13,
   "id": "9b57ea21",
   "metadata": {},
   "outputs": [
    {
     "data": {
      "text/plain": [
       "age         0\n",
       "sex         0\n",
       "cp          0\n",
       "trestbps    0\n",
       "chol        0\n",
       "fbs         0\n",
       "restecg     0\n",
       "thalach     0\n",
       "exang       0\n",
       "oldpeak     0\n",
       "slope       0\n",
       "ca          0\n",
       "thal        0\n",
       "present     0\n",
       "dtype: int64"
      ]
     },
     "execution_count": 13,
     "metadata": {},
     "output_type": "execute_result"
    }
   ],
   "source": [
    "df.isna().sum()       # no missing data"
   ]
  },
  {
   "cell_type": "markdown",
   "id": "f67286ce",
   "metadata": {},
   "source": [
    "# Exercise 5 : Handle Features\n",
    "\n",
    "- Use one method between these two methods for the object type columns :-\n",
    "    1. Convert data type to numeric.\n",
    "    2. One hot encoding."
   ]
  },
  {
   "cell_type": "code",
   "execution_count": 14,
   "id": "15611c7a",
   "metadata": {},
   "outputs": [],
   "source": [
    "df[['ca', 'thal']] = df[['ca', 'thal']].apply(pd.to_numeric)"
   ]
  },
  {
   "cell_type": "code",
   "execution_count": 15,
   "id": "cac702d1",
   "metadata": {},
   "outputs": [
    {
     "name": "stdout",
     "output_type": "stream",
     "text": [
      "<class 'pandas.core.frame.DataFrame'>\n",
      "Int64Index: 297 entries, 0 to 301\n",
      "Data columns (total 14 columns):\n",
      " #   Column    Non-Null Count  Dtype  \n",
      "---  ------    --------------  -----  \n",
      " 0   age       297 non-null    int64  \n",
      " 1   sex       297 non-null    int64  \n",
      " 2   cp        297 non-null    int64  \n",
      " 3   trestbps  297 non-null    int64  \n",
      " 4   chol      297 non-null    int64  \n",
      " 5   fbs       297 non-null    int64  \n",
      " 6   restecg   297 non-null    int64  \n",
      " 7   thalach   297 non-null    int64  \n",
      " 8   exang     297 non-null    int64  \n",
      " 9   oldpeak   297 non-null    float64\n",
      " 10  slope     297 non-null    int64  \n",
      " 11  ca        297 non-null    float64\n",
      " 12  thal      297 non-null    float64\n",
      " 13  present   297 non-null    int64  \n",
      "dtypes: float64(3), int64(11)\n",
      "memory usage: 34.8 KB\n"
     ]
    }
   ],
   "source": [
    "df.info()"
   ]
  },
  {
   "cell_type": "markdown",
   "id": "82da860b",
   "metadata": {},
   "source": [
    "# Exercise 6 : Remove Outliers (If exists)\n",
    "\n",
    "- Use box plots for some continuous data."
   ]
  },
  {
   "cell_type": "code",
   "execution_count": 16,
   "id": "bd9bcf1b",
   "metadata": {},
   "outputs": [
    {
     "data": {
      "image/png": "[encoded data removed]",
      "text/plain": [
       "<Figure size 1000x600 with 1 Axes>"
      ]
     },
     "metadata": {},
     "output_type": "display_data"
    }
   ],
   "source": [
    "plt.figure(figsize=(10, 6))\n",
    "df.boxplot(column=['age','trestbps','chol','thalach','oldpeak'])\n",
    "plt.xticks(rotation=45, ha=\"right\")\n",
    "plt.show()"
   ]
  },
  {
   "cell_type": "code",
   "execution_count": 28,
   "id": "c86c4ff0",
   "metadata": {},
   "outputs": [],
   "source": [
    "Q1 = df['age'].quantile(0.25)\n",
    "Q3 = df['age'].quantile(0.75)\n",
    "IQR = Q3 - Q1\n",
    "lower_limit = Q1 - 1.5 * IQR\n",
    "upper_limit = Q3 + 1.5 * IQR\n",
    "lower_limit = np.array(lower_limit)\n",
    "upper_limit = np.array(upper_limit)\n",
    "new_df = df[df['age'].between(lower_limit, upper_limit)]"
   ]
  },
  {
   "cell_type": "code",
   "execution_count": 29,
   "id": "87dccf9c",
   "metadata": {},
   "outputs": [],
   "source": [
    "Q1 = df['trestbps'].quantile(0.25)\n",
    "Q3 = df['trestbps'].quantile(0.75)\n",
    "IQR = Q3 - Q1\n",
    "lower_limit = Q1 - 1.5 * IQR\n",
    "upper_limit = Q3 + 1.5 * IQR\n",
    "lower_limit = np.array(lower_limit)\n",
    "upper_limit = np.array(upper_limit)\n",
    "new_df = df[df['trestbps'].between(lower_limit, upper_limit)]"
   ]
  },
  {
   "cell_type": "code",
   "execution_count": 30,
   "id": "ece1d231",
   "metadata": {},
   "outputs": [],
   "source": [
    "Q1 = df['chol'].quantile(0.25)\n",
    "Q3 = df['chol'].quantile(0.75)\n",
    "IQR = Q3 - Q1\n",
    "lower_limit = Q1 - 1.5 * IQR\n",
    "upper_limit = Q3 + 1.5 * IQR\n",
    "lower_limit = np.array(lower_limit)\n",
    "upper_limit = np.array(upper_limit)\n",
    "new_df = df[df['chol'].between(lower_limit, upper_limit)]"
   ]
  },
  {
   "cell_type": "code",
   "execution_count": 31,
   "id": "3e7fc801",
   "metadata": {},
   "outputs": [],
   "source": [
    "Q1 = df['thalach'].quantile(0.25)\n",
    "Q3 = df['thalach'].quantile(0.75)\n",
    "IQR = Q3 - Q1\n",
    "lower_limit = Q1 - 1.5 * IQR\n",
    "upper_limit = Q3 + 1.5 * IQR\n",
    "lower_limit = np.array(lower_limit)\n",
    "upper_limit = np.array(upper_limit)\n",
    "new_df = df[df['thalach'].between(lower_limit, upper_limit)]"
   ]
  },
  {
   "cell_type": "code",
   "execution_count": 32,
   "id": "aa5659e5",
   "metadata": {},
   "outputs": [],
   "source": [
    "Q1 = df['oldpeak'].quantile(0.25)\n",
    "Q3 = df['oldpeak'].quantile(0.75)\n",
    "IQR = Q3 - Q1\n",
    "lower_limit = Q1 - 1.5 * IQR\n",
    "upper_limit = Q3 + 1.5 * IQR\n",
    "lower_limit = np.array(lower_limit)\n",
    "upper_limit = np.array(upper_limit)\n",
    "new_df = df[df['oldpeak'].between(lower_limit, upper_limit)]"
   ]
  },
  {
   "cell_type": "code",
   "execution_count": 33,
   "id": "59248e47",
   "metadata": {},
   "outputs": [
    {
     "data": {
      "image/png": "[encoded data removed]",
      "text/plain": [
       "<Figure size 1000x600 with 1 Axes>"
      ]
     },
     "metadata": {},
     "output_type": "display_data"
    }
   ],
   "source": [
    "plt.figure(figsize=(10, 6))\n",
    "new_df.boxplot(column=['age','trestbps','chol','thalach','oldpeak'])\n",
    "plt.xticks(rotation=45, ha=\"right\")\n",
    "plt.show()"
   ]
  },
  {
   "cell_type": "code",
   "execution_count": null,
   "id": "874e533f",
   "metadata": {},
   "outputs": [],
   "source": []
  },
  {
   "cell_type": "markdown",
   "id": "f626d547",
   "metadata": {},
   "source": [
    "# Exercise 7 : Feature Selection using Correlation Matrix\n",
    "\n",
    "1. Calculate the Correlation Matrix.\n",
    "2. Identify Highly Correlated Features.\n",
    "    - The threshold is 0.6\n",
    "3. Remove Highly Correlated Features."
   ]
  },
  {
   "cell_type": "code",
   "execution_count": 34,
   "id": "26be7b88",
   "metadata": {},
   "outputs": [
    {
     "data": {
      "text/html": [
       "<div>\n",
       "<style scoped>\n",
       "    .dataframe tbody tr th:only-of-type {\n",
       "        vertical-align: middle;\n",
       "    }\n",
       "\n",
       "    .dataframe tbody tr th {\n",
       "        vertical-align: top;\n",
       "    }\n",
       "\n",
       "    .dataframe thead th {\n",
       "        text-align: right;\n",
       "    }\n",
       "</style>\n",
       "<table border=\"1\" class=\"dataframe\">\n",
       "  <thead>\n",
       "    <tr style=\"text-align: right;\">\n",
       "      <th></th>\n",
       "      <th>age</th>\n",
       "      <th>sex</th>\n",
       "      <th>cp</th>\n",
       "      <th>trestbps</th>\n",
       "      <th>chol</th>\n",
       "      <th>fbs</th>\n",
       "      <th>restecg</th>\n",
       "      <th>thalach</th>\n",
       "      <th>exang</th>\n",
       "      <th>oldpeak</th>\n",
       "      <th>slope</th>\n",
       "      <th>ca</th>\n",
       "      <th>thal</th>\n",
       "      <th>present</th>\n",
       "    </tr>\n",
       "  </thead>\n",
       "  <tbody>\n",
       "    <tr>\n",
       "      <th>age</th>\n",
       "      <td>1.000000</td>\n",
       "      <td>0.090442</td>\n",
       "      <td>0.113409</td>\n",
       "      <td>0.289391</td>\n",
       "      <td>0.208523</td>\n",
       "      <td>0.134453</td>\n",
       "      <td>0.145570</td>\n",
       "      <td>0.398292</td>\n",
       "      <td>0.103305</td>\n",
       "      <td>0.200513</td>\n",
       "      <td>0.152608</td>\n",
       "      <td>0.369777</td>\n",
       "      <td>0.123309</td>\n",
       "      <td>0.228022</td>\n",
       "    </tr>\n",
       "    <tr>\n",
       "      <th>sex</th>\n",
       "      <td>0.090442</td>\n",
       "      <td>1.000000</td>\n",
       "      <td>0.012515</td>\n",
       "      <td>0.066223</td>\n",
       "      <td>0.214600</td>\n",
       "      <td>0.041044</td>\n",
       "      <td>0.041696</td>\n",
       "      <td>0.054033</td>\n",
       "      <td>0.138979</td>\n",
       "      <td>0.111811</td>\n",
       "      <td>0.028133</td>\n",
       "      <td>0.099733</td>\n",
       "      <td>0.386099</td>\n",
       "      <td>0.282851</td>\n",
       "    </tr>\n",
       "    <tr>\n",
       "      <th>cp</th>\n",
       "      <td>0.113409</td>\n",
       "      <td>0.012515</td>\n",
       "      <td>1.000000</td>\n",
       "      <td>0.022577</td>\n",
       "      <td>0.076750</td>\n",
       "      <td>0.056753</td>\n",
       "      <td>0.076003</td>\n",
       "      <td>0.337652</td>\n",
       "      <td>0.376572</td>\n",
       "      <td>0.206499</td>\n",
       "      <td>0.153770</td>\n",
       "      <td>0.220683</td>\n",
       "      <td>0.271437</td>\n",
       "      <td>0.398352</td>\n",
       "    </tr>\n",
       "    <tr>\n",
       "      <th>trestbps</th>\n",
       "      <td>0.289391</td>\n",
       "      <td>0.066223</td>\n",
       "      <td>0.022577</td>\n",
       "      <td>1.000000</td>\n",
       "      <td>0.144339</td>\n",
       "      <td>0.190489</td>\n",
       "      <td>0.141673</td>\n",
       "      <td>0.044084</td>\n",
       "      <td>0.071637</td>\n",
       "      <td>0.161669</td>\n",
       "      <td>0.096905</td>\n",
       "      <td>0.101464</td>\n",
       "      <td>0.123331</td>\n",
       "      <td>0.160317</td>\n",
       "    </tr>\n",
       "    <tr>\n",
       "      <th>chol</th>\n",
       "      <td>0.208523</td>\n",
       "      <td>0.214600</td>\n",
       "      <td>0.076750</td>\n",
       "      <td>0.144339</td>\n",
       "      <td>1.000000</td>\n",
       "      <td>0.013686</td>\n",
       "      <td>0.173238</td>\n",
       "      <td>0.001753</td>\n",
       "      <td>0.059035</td>\n",
       "      <td>0.049662</td>\n",
       "      <td>0.008805</td>\n",
       "      <td>0.114387</td>\n",
       "      <td>0.011114</td>\n",
       "      <td>0.082687</td>\n",
       "    </tr>\n",
       "    <tr>\n",
       "      <th>fbs</th>\n",
       "      <td>0.134453</td>\n",
       "      <td>0.041044</td>\n",
       "      <td>0.056753</td>\n",
       "      <td>0.190489</td>\n",
       "      <td>0.013686</td>\n",
       "      <td>1.000000</td>\n",
       "      <td>0.069431</td>\n",
       "      <td>0.013193</td>\n",
       "      <td>0.000212</td>\n",
       "      <td>0.035428</td>\n",
       "      <td>0.063905</td>\n",
       "      <td>0.166342</td>\n",
       "      <td>0.070563</td>\n",
       "      <td>0.008041</td>\n",
       "    </tr>\n",
       "    <tr>\n",
       "      <th>restecg</th>\n",
       "      <td>0.145570</td>\n",
       "      <td>0.041696</td>\n",
       "      <td>0.076003</td>\n",
       "      <td>0.141673</td>\n",
       "      <td>0.173238</td>\n",
       "      <td>0.069431</td>\n",
       "      <td>1.000000</td>\n",
       "      <td>0.081876</td>\n",
       "      <td>0.097910</td>\n",
       "      <td>0.125620</td>\n",
       "      <td>0.135359</td>\n",
       "      <td>0.134348</td>\n",
       "      <td>0.019057</td>\n",
       "      <td>0.175955</td>\n",
       "    </tr>\n",
       "    <tr>\n",
       "      <th>thalach</th>\n",
       "      <td>0.398292</td>\n",
       "      <td>0.054033</td>\n",
       "      <td>0.337652</td>\n",
       "      <td>0.044084</td>\n",
       "      <td>0.001753</td>\n",
       "      <td>0.013193</td>\n",
       "      <td>0.081876</td>\n",
       "      <td>1.000000</td>\n",
       "      <td>0.378774</td>\n",
       "      <td>0.343004</td>\n",
       "      <td>0.384037</td>\n",
       "      <td>0.268864</td>\n",
       "      <td>0.265427</td>\n",
       "      <td>0.418689</td>\n",
       "    </tr>\n",
       "    <tr>\n",
       "      <th>exang</th>\n",
       "      <td>0.103305</td>\n",
       "      <td>0.138979</td>\n",
       "      <td>0.376572</td>\n",
       "      <td>0.071637</td>\n",
       "      <td>0.059035</td>\n",
       "      <td>0.000212</td>\n",
       "      <td>0.097910</td>\n",
       "      <td>0.378774</td>\n",
       "      <td>1.000000</td>\n",
       "      <td>0.316215</td>\n",
       "      <td>0.264387</td>\n",
       "      <td>0.156285</td>\n",
       "      <td>0.329007</td>\n",
       "      <td>0.421688</td>\n",
       "    </tr>\n",
       "    <tr>\n",
       "      <th>oldpeak</th>\n",
       "      <td>0.200513</td>\n",
       "      <td>0.111811</td>\n",
       "      <td>0.206499</td>\n",
       "      <td>0.161669</td>\n",
       "      <td>0.049662</td>\n",
       "      <td>0.035428</td>\n",
       "      <td>0.125620</td>\n",
       "      <td>0.343004</td>\n",
       "      <td>0.316215</td>\n",
       "      <td>1.000000</td>\n",
       "      <td>0.539029</td>\n",
       "      <td>0.260949</td>\n",
       "      <td>0.319573</td>\n",
       "      <td>0.429541</td>\n",
       "    </tr>\n",
       "    <tr>\n",
       "      <th>slope</th>\n",
       "      <td>0.152608</td>\n",
       "      <td>0.028133</td>\n",
       "      <td>0.153770</td>\n",
       "      <td>0.096905</td>\n",
       "      <td>0.008805</td>\n",
       "      <td>0.063905</td>\n",
       "      <td>0.135359</td>\n",
       "      <td>0.384037</td>\n",
       "      <td>0.264387</td>\n",
       "      <td>0.539029</td>\n",
       "      <td>1.000000</td>\n",
       "      <td>0.082619</td>\n",
       "      <td>0.256600</td>\n",
       "      <td>0.327569</td>\n",
       "    </tr>\n",
       "    <tr>\n",
       "      <th>ca</th>\n",
       "      <td>0.369777</td>\n",
       "      <td>0.099733</td>\n",
       "      <td>0.220683</td>\n",
       "      <td>0.101464</td>\n",
       "      <td>0.114387</td>\n",
       "      <td>0.166342</td>\n",
       "      <td>0.134348</td>\n",
       "      <td>0.268864</td>\n",
       "      <td>0.156285</td>\n",
       "      <td>0.260949</td>\n",
       "      <td>0.082619</td>\n",
       "      <td>1.000000</td>\n",
       "      <td>0.247410</td>\n",
       "      <td>0.455713</td>\n",
       "    </tr>\n",
       "    <tr>\n",
       "      <th>thal</th>\n",
       "      <td>0.123309</td>\n",
       "      <td>0.386099</td>\n",
       "      <td>0.271437</td>\n",
       "      <td>0.123331</td>\n",
       "      <td>0.011114</td>\n",
       "      <td>0.070563</td>\n",
       "      <td>0.019057</td>\n",
       "      <td>0.265427</td>\n",
       "      <td>0.329007</td>\n",
       "      <td>0.319573</td>\n",
       "      <td>0.256600</td>\n",
       "      <td>0.247410</td>\n",
       "      <td>1.000000</td>\n",
       "      <td>0.525148</td>\n",
       "    </tr>\n",
       "    <tr>\n",
       "      <th>present</th>\n",
       "      <td>0.228022</td>\n",
       "      <td>0.282851</td>\n",
       "      <td>0.398352</td>\n",
       "      <td>0.160317</td>\n",
       "      <td>0.082687</td>\n",
       "      <td>0.008041</td>\n",
       "      <td>0.175955</td>\n",
       "      <td>0.418689</td>\n",
       "      <td>0.421688</td>\n",
       "      <td>0.429541</td>\n",
       "      <td>0.327569</td>\n",
       "      <td>0.455713</td>\n",
       "      <td>0.525148</td>\n",
       "      <td>1.000000</td>\n",
       "    </tr>\n",
       "  </tbody>\n",
       "</table>\n",
       "</div>"
      ],
      "text/plain": [
       "               age       sex        cp  trestbps      chol       fbs  \\\n",
       "age       1.000000  0.090442  0.113409  0.289391  0.208523  0.134453   \n",
       "sex       0.090442  1.000000  0.012515  0.066223  0.214600  0.041044   \n",
       "cp        0.113409  0.012515  1.000000  0.022577  0.076750  0.056753   \n",
       "trestbps  0.289391  0.066223  0.022577  1.000000  0.144339  0.190489   \n",
       "chol      0.208523  0.214600  0.076750  0.144339  1.000000  0.013686   \n",
       "fbs       0.134453  0.041044  0.056753  0.190489  0.013686  1.000000   \n",
       "restecg   0.145570  0.041696  0.076003  0.141673  0.173238  0.069431   \n",
       "thalach   0.398292  0.054033  0.337652  0.044084  0.001753  0.013193   \n",
       "exang     0.103305  0.138979  0.376572  0.071637  0.059035  0.000212   \n",
       "oldpeak   0.200513  0.111811  0.206499  0.161669  0.049662  0.035428   \n",
       "slope     0.152608  0.028133  0.153770  0.096905  0.008805  0.063905   \n",
       "ca        0.369777  0.099733  0.220683  0.101464  0.114387  0.166342   \n",
       "thal      0.123309  0.386099  0.271437  0.123331  0.011114  0.070563   \n",
       "present   0.228022  0.282851  0.398352  0.160317  0.082687  0.008041   \n",
       "\n",
       "           restecg   thalach     exang   oldpeak     slope        ca  \\\n",
       "age       0.145570  0.398292  0.103305  0.200513  0.152608  0.369777   \n",
       "sex       0.041696  0.054033  0.138979  0.111811  0.028133  0.099733   \n",
       "cp        0.076003  0.337652  0.376572  0.206499  0.153770  0.220683   \n",
       "trestbps  0.141673  0.044084  0.071637  0.161669  0.096905  0.101464   \n",
       "chol      0.173238  0.001753  0.059035  0.049662  0.008805  0.114387   \n",
       "fbs       0.069431  0.013193  0.000212  0.035428  0.063905  0.166342   \n",
       "restecg   1.000000  0.081876  0.097910  0.125620  0.135359  0.134348   \n",
       "thalach   0.081876  1.000000  0.378774  0.343004  0.384037  0.268864   \n",
       "exang     0.097910  0.378774  1.000000  0.316215  0.264387  0.156285   \n",
       "oldpeak   0.125620  0.343004  0.316215  1.000000  0.539029  0.260949   \n",
       "slope     0.135359  0.384037  0.264387  0.539029  1.000000  0.082619   \n",
       "ca        0.134348  0.268864  0.156285  0.260949  0.082619  1.000000   \n",
       "thal      0.019057  0.265427  0.329007  0.319573  0.256600  0.247410   \n",
       "present   0.175955  0.418689  0.421688  0.429541  0.327569  0.455713   \n",
       "\n",
       "              thal   present  \n",
       "age       0.123309  0.228022  \n",
       "sex       0.386099  0.282851  \n",
       "cp        0.271437  0.398352  \n",
       "trestbps  0.123331  0.160317  \n",
       "chol      0.011114  0.082687  \n",
       "fbs       0.070563  0.008041  \n",
       "restecg   0.019057  0.175955  \n",
       "thalach   0.265427  0.418689  \n",
       "exang     0.329007  0.421688  \n",
       "oldpeak   0.319573  0.429541  \n",
       "slope     0.256600  0.327569  \n",
       "ca        0.247410  0.455713  \n",
       "thal      1.000000  0.525148  \n",
       "present   0.525148  1.000000  "
      ]
     },
     "execution_count": 34,
     "metadata": {},
     "output_type": "execute_result"
    }
   ],
   "source": [
    "corr = new_df.corr().abs()\n",
    "corr"
   ]
  },
  {
   "cell_type": "code",
   "execution_count": 35,
   "id": "e1edd5e6",
   "metadata": {},
   "outputs": [
    {
     "data": {
      "text/plain": [
       "<Axes: >"
      ]
     },
     "execution_count": 35,
     "metadata": {},
     "output_type": "execute_result"
    },
    {
     "data": {
      "image/png": "[encoded data removed]",
      "text/plain": [
       "<Figure size 1400x900 with 2 Axes>"
      ]
     },
     "metadata": {},
     "output_type": "display_data"
    }
   ],
   "source": [
    "plt.figure(figsize=(14,9))\n",
    "sns.heatmap(corr, annot=True, cmap='coolwarm')"
   ]
  },
  {
   "cell_type": "code",
   "execution_count": 38,
   "id": "f08fcd51",
   "metadata": {},
   "outputs": [
    {
     "data": {
      "text/plain": [
       "[]"
      ]
     },
     "execution_count": 38,
     "metadata": {},
     "output_type": "execute_result"
    }
   ],
   "source": [
    "upper = corr.where(np.triu(np.ones(corr.shape), k=1).astype(bool))\n",
    "to_drop = [column for column in upper.columns if any(upper[column] > 0.6)]\n",
    "to_drop\n",
    "#new_df.drop(to_drop, axis=1, inplace=True)"
   ]
  },
  {
   "cell_type": "code",
   "execution_count": null,
   "id": "2d975d33",
   "metadata": {},
   "outputs": [],
   "source": []
  },
  {
   "cell_type": "markdown",
   "id": "91214e17",
   "metadata": {},
   "source": [
    "# Exercise 8 : X and Y split, then train and test split"
   ]
  },
  {
   "cell_type": "code",
   "execution_count": 39,
   "id": "0cc0c72b",
   "metadata": {},
   "outputs": [
    {
     "name": "stdout",
     "output_type": "stream",
     "text": [
      "x train is :  (233, 13)\n",
      "x test is :  (59, 13)\n",
      "y train is :  (233,)\n",
      "y test is :  (59,)\n"
     ]
    }
   ],
   "source": [
    "X = new_df.drop('present', axis=1)\n",
    "Y = new_df['present']\n",
    "X_train, X_test, Y_train, Y_test = train_test_split(X, Y, test_size=0.2, random_state=42)\n",
    "print(\"x train is : \",X_train.shape)\n",
    "print(\"x test is : \",X_test.shape)\n",
    "print(\"y train is : \",Y_train.shape)\n",
    "print(\"y test is : \",Y_test.shape)"
   ]
  },
  {
   "cell_type": "markdown",
   "id": "8ad4781b",
   "metadata": {},
   "source": [
    "# Exercise 9 : Train the model"
   ]
  },
  {
   "cell_type": "code",
   "execution_count": 40,
   "id": "a2629be5",
   "metadata": {},
   "outputs": [
    {
     "name": "stderr",
     "output_type": "stream",
     "text": [
      "C:\\Users\\dalal\\anaconda3\\Lib\\site-packages\\sklearn\\linear_model\\_logistic.py:460: ConvergenceWarning: lbfgs failed to converge (status=1):\n",
      "STOP: TOTAL NO. of ITERATIONS REACHED LIMIT.\n",
      "\n",
      "Increase the number of iterations (max_iter) or scale the data as shown in:\n",
      "    https://scikit-learn.org/stable/modules/preprocessing.html\n",
      "Please also refer to the documentation for alternative solver options:\n",
      "    https://scikit-learn.org/stable/modules/linear_model.html#logistic-regression\n",
      "  n_iter_i = _check_optimize_result(\n"
     ]
    },
    {
     "data": {
      "text/html": [
       "<style>#sk-container-id-1 {color: black;}#sk-container-id-1 pre{padding: 0;}#sk-container-id-1 div.sk-toggleable {background-color: white;}#sk-container-id-1 label.sk-toggleable__label {cursor: pointer;display: block;width: 100%;margin-bottom: 0;padding: 0.3em;box-sizing: border-box;text-align: center;}#sk-container-id-1 label.sk-toggleable__label-arrow:before {content: \"▸\";float: left;margin-right: 0.25em;color: #696969;}#sk-container-id-1 label.sk-toggleable__label-arrow:hover:before {color: black;}#sk-container-id-1 div.sk-estimator:hover label.sk-toggleable__label-arrow:before {color: black;}#sk-container-id-1 div.sk-toggleable__content {max-height: 0;max-width: 0;overflow: hidden;text-align: left;background-color: #f0f8ff;}#sk-container-id-1 div.sk-toggleable__content pre {margin: 0.2em;color: black;border-radius: 0.25em;background-color: #f0f8ff;}#sk-container-id-1 input.sk-toggleable__control:checked~div.sk-toggleable__content {max-height: 200px;max-width: 100%;overflow: auto;}#sk-container-id-1 input.sk-toggleable__control:checked~label.sk-toggleable__label-arrow:before {content: \"▾\";}#sk-container-id-1 div.sk-estimator input.sk-toggleable__control:checked~label.sk-toggleable__label {background-color: #d4ebff;}#sk-container-id-1 div.sk-label input.sk-toggleable__control:checked~label.sk-toggleable__label {background-color: #d4ebff;}#sk-container-id-1 input.sk-hidden--visually {border: 0;clip: rect(1px 1px 1px 1px);clip: rect(1px, 1px, 1px, 1px);height: 1px;margin: -1px;overflow: hidden;padding: 0;position: absolute;width: 1px;}#sk-container-id-1 div.sk-estimator {font-family: monospace;background-color: #f0f8ff;border: 1px dotted black;border-radius: 0.25em;box-sizing: border-box;margin-bottom: 0.5em;}#sk-container-id-1 div.sk-estimator:hover {background-color: #d4ebff;}#sk-container-id-1 div.sk-parallel-item::after {content: \"\";width: 100%;border-bottom: 1px solid gray;flex-grow: 1;}#sk-container-id-1 div.sk-label:hover label.sk-toggleable__label {background-color: #d4ebff;}#sk-container-id-1 div.sk-serial::before {content: \"\";position: absolute;border-left: 1px solid gray;box-sizing: border-box;top: 0;bottom: 0;left: 50%;z-index: 0;}#sk-container-id-1 div.sk-serial {display: flex;flex-direction: column;align-items: center;background-color: white;padding-right: 0.2em;padding-left: 0.2em;position: relative;}#sk-container-id-1 div.sk-item {position: relative;z-index: 1;}#sk-container-id-1 div.sk-parallel {display: flex;align-items: stretch;justify-content: center;background-color: white;position: relative;}#sk-container-id-1 div.sk-item::before, #sk-container-id-1 div.sk-parallel-item::before {content: \"\";position: absolute;border-left: 1px solid gray;box-sizing: border-box;top: 0;bottom: 0;left: 50%;z-index: -1;}#sk-container-id-1 div.sk-parallel-item {display: flex;flex-direction: column;z-index: 1;position: relative;background-color: white;}#sk-container-id-1 div.sk-parallel-item:first-child::after {align-self: flex-end;width: 50%;}#sk-container-id-1 div.sk-parallel-item:last-child::after {align-self: flex-start;width: 50%;}#sk-container-id-1 div.sk-parallel-item:only-child::after {width: 0;}#sk-container-id-1 div.sk-dashed-wrapped {border: 1px dashed gray;margin: 0 0.4em 0.5em 0.4em;box-sizing: border-box;padding-bottom: 0.4em;background-color: white;}#sk-container-id-1 div.sk-label label {font-family: monospace;font-weight: bold;display: inline-block;line-height: 1.2em;}#sk-container-id-1 div.sk-label-container {text-align: center;}#sk-container-id-1 div.sk-container {/* jupyter's `normalize.less` sets `[hidden] { display: none; }` but bootstrap.min.css set `[hidden] { display: none !important; }` so we also need the `!important` here to be able to override the default hidden behavior on the sphinx rendered scikit-learn.org. See: https://github.com/scikit-learn/scikit-learn/issues/21755 */display: inline-block !important;position: relative;}#sk-container-id-1 div.sk-text-repr-fallback {display: none;}</style><div id=\"sk-container-id-1\" class=\"sk-top-container\"><div class=\"sk-text-repr-fallback\"><pre>LogisticRegression()</pre><b>In a Jupyter environment, please rerun this cell to show the HTML representation or trust the notebook. <br />On GitHub, the HTML representation is unable to render, please try loading this page with nbviewer.org.</b></div><div class=\"sk-container\" hidden><div class=\"sk-item\"><div class=\"sk-estimator sk-toggleable\"><input class=\"sk-toggleable__control sk-hidden--visually\" id=\"sk-estimator-id-1\" type=\"checkbox\" checked><label for=\"sk-estimator-id-1\" class=\"sk-toggleable__label sk-toggleable__label-arrow\">LogisticRegression</label><div class=\"sk-toggleable__content\"><pre>LogisticRegression()</pre></div></div></div></div></div>"
      ],
      "text/plain": [
       "LogisticRegression()"
      ]
     },
     "execution_count": 40,
     "metadata": {},
     "output_type": "execute_result"
    }
   ],
   "source": [
    "logreg = LogisticRegression()\n",
    "logreg.fit(X_train, Y_train)"
   ]
  },
  {
   "cell_type": "code",
   "execution_count": 41,
   "id": "97c1c465",
   "metadata": {},
   "outputs": [
    {
     "data": {
      "text/plain": [
       "(233,)"
      ]
     },
     "execution_count": 41,
     "metadata": {},
     "output_type": "execute_result"
    }
   ],
   "source": [
    "logreg.predict(X_train).shape"
   ]
  },
  {
   "cell_type": "code",
   "execution_count": 42,
   "id": "38221507",
   "metadata": {},
   "outputs": [
    {
     "data": {
      "text/plain": [
       "array([[0.83666328, 0.16333672],\n",
       "       [0.068875  , 0.931125  ],\n",
       "       [0.71844753, 0.28155247],\n",
       "       [0.14786117, 0.85213883],\n",
       "       [0.94787811, 0.05212189],\n",
       "       [0.08289258, 0.91710742],\n",
       "       [0.71835584, 0.28164416],\n",
       "       [0.00441526, 0.99558474],\n",
       "       [0.94431258, 0.05568742],\n",
       "       [0.96341405, 0.03658595],\n",
       "       [0.19714091, 0.80285909],\n",
       "       [0.95336303, 0.04663697],\n",
       "       [0.69067231, 0.30932769],\n",
       "       [0.87330581, 0.12669419],\n",
       "       [0.05229953, 0.94770047],\n",
       "       [0.98750611, 0.01249389],\n",
       "       [0.02782614, 0.97217386],\n",
       "       [0.73892764, 0.26107236],\n",
       "       [0.03918993, 0.96081007],\n",
       "       [0.25959391, 0.74040609],\n",
       "       [0.00250531, 0.99749469],\n",
       "       [0.50249185, 0.49750815],\n",
       "       [0.98553264, 0.01446736],\n",
       "       [0.98374267, 0.01625733],\n",
       "       [0.95035767, 0.04964233],\n",
       "       [0.11362938, 0.88637062],\n",
       "       [0.71748436, 0.28251564],\n",
       "       [0.00743406, 0.99256594],\n",
       "       [0.90013906, 0.09986094],\n",
       "       [0.24494557, 0.75505443],\n",
       "       [0.85153855, 0.14846145],\n",
       "       [0.30924941, 0.69075059],\n",
       "       [0.98204119, 0.01795881],\n",
       "       [0.95715507, 0.04284493],\n",
       "       [0.39039646, 0.60960354],\n",
       "       [0.01321991, 0.98678009],\n",
       "       [0.01193964, 0.98806036],\n",
       "       [0.95042374, 0.04957626],\n",
       "       [0.04278478, 0.95721522],\n",
       "       [0.03217006, 0.96782994],\n",
       "       [0.93014268, 0.06985732],\n",
       "       [0.02559086, 0.97440914],\n",
       "       [0.5739334 , 0.4260666 ],\n",
       "       [0.00235006, 0.99764994],\n",
       "       [0.08526893, 0.91473107],\n",
       "       [0.84148946, 0.15851054],\n",
       "       [0.66538168, 0.33461832],\n",
       "       [0.12682723, 0.87317277],\n",
       "       [0.08352865, 0.91647135],\n",
       "       [0.06222373, 0.93777627],\n",
       "       [0.95119963, 0.04880037],\n",
       "       [0.13930396, 0.86069604],\n",
       "       [0.32796178, 0.67203822],\n",
       "       [0.91117532, 0.08882468],\n",
       "       [0.95333684, 0.04666316],\n",
       "       [0.7603723 , 0.2396277 ],\n",
       "       [0.02557652, 0.97442348],\n",
       "       [0.94583911, 0.05416089],\n",
       "       [0.64993793, 0.35006207],\n",
       "       [0.11606005, 0.88393995],\n",
       "       [0.87277153, 0.12722847],\n",
       "       [0.58199156, 0.41800844],\n",
       "       [0.41203839, 0.58796161],\n",
       "       [0.01160103, 0.98839897],\n",
       "       [0.31962098, 0.68037902],\n",
       "       [0.04354762, 0.95645238],\n",
       "       [0.94584729, 0.05415271],\n",
       "       [0.9236549 , 0.0763451 ],\n",
       "       [0.20511258, 0.79488742],\n",
       "       [0.00196785, 0.99803215],\n",
       "       [0.83209981, 0.16790019],\n",
       "       [0.88070408, 0.11929592],\n",
       "       [0.98429002, 0.01570998],\n",
       "       [0.49516398, 0.50483602],\n",
       "       [0.7858978 , 0.2141022 ],\n",
       "       [0.07013029, 0.92986971],\n",
       "       [0.92563394, 0.07436606],\n",
       "       [0.03266275, 0.96733725],\n",
       "       [0.26877212, 0.73122788],\n",
       "       [0.98830883, 0.01169117],\n",
       "       [0.95422303, 0.04577697],\n",
       "       [0.94904296, 0.05095704],\n",
       "       [0.37404394, 0.62595606],\n",
       "       [0.13061245, 0.86938755],\n",
       "       [0.00646133, 0.99353867],\n",
       "       [0.0073911 , 0.9926089 ],\n",
       "       [0.92943476, 0.07056524],\n",
       "       [0.65391182, 0.34608818],\n",
       "       [0.18830178, 0.81169822],\n",
       "       [0.92748895, 0.07251105],\n",
       "       [0.82595862, 0.17404138],\n",
       "       [0.91938701, 0.08061299],\n",
       "       [0.19169155, 0.80830845],\n",
       "       [0.25439008, 0.74560992],\n",
       "       [0.04879418, 0.95120582],\n",
       "       [0.70951774, 0.29048226],\n",
       "       [0.04126701, 0.95873299],\n",
       "       [0.78113282, 0.21886718],\n",
       "       [0.44072598, 0.55927402],\n",
       "       [0.62460833, 0.37539167],\n",
       "       [0.7397959 , 0.2602041 ],\n",
       "       [0.97079873, 0.02920127],\n",
       "       [0.8878872 , 0.1121128 ],\n",
       "       [0.9784449 , 0.0215551 ],\n",
       "       [0.977388  , 0.022612  ],\n",
       "       [0.56122132, 0.43877868],\n",
       "       [0.00810253, 0.99189747],\n",
       "       [0.71598809, 0.28401191],\n",
       "       [0.06248408, 0.93751592],\n",
       "       [0.77389193, 0.22610807],\n",
       "       [0.95087123, 0.04912877],\n",
       "       [0.91267591, 0.08732409],\n",
       "       [0.04502852, 0.95497148],\n",
       "       [0.94315835, 0.05684165],\n",
       "       [0.07065271, 0.92934729],\n",
       "       [0.87046006, 0.12953994],\n",
       "       [0.04044952, 0.95955048],\n",
       "       [0.87908676, 0.12091324],\n",
       "       [0.02355237, 0.97644763],\n",
       "       [0.2165282 , 0.7834718 ],\n",
       "       [0.91210924, 0.08789076],\n",
       "       [0.39597991, 0.60402009],\n",
       "       [0.89318712, 0.10681288],\n",
       "       [0.84092149, 0.15907851],\n",
       "       [0.96519985, 0.03480015],\n",
       "       [0.94929982, 0.05070018],\n",
       "       [0.96450736, 0.03549264],\n",
       "       [0.93009058, 0.06990942],\n",
       "       [0.38363113, 0.61636887],\n",
       "       [0.70809386, 0.29190614],\n",
       "       [0.95055989, 0.04944011],\n",
       "       [0.11592905, 0.88407095],\n",
       "       [0.58528278, 0.41471722],\n",
       "       [0.00181474, 0.99818526],\n",
       "       [0.11069516, 0.88930484],\n",
       "       [0.29956792, 0.70043208],\n",
       "       [0.2761016 , 0.7238984 ],\n",
       "       [0.52798918, 0.47201082],\n",
       "       [0.94695909, 0.05304091],\n",
       "       [0.08502136, 0.91497864],\n",
       "       [0.06113873, 0.93886127],\n",
       "       [0.96106631, 0.03893369],\n",
       "       [0.98255397, 0.01744603],\n",
       "       [0.35518544, 0.64481456],\n",
       "       [0.00485152, 0.99514848],\n",
       "       [0.00322922, 0.99677078],\n",
       "       [0.89749217, 0.10250783],\n",
       "       [0.39926353, 0.60073647],\n",
       "       [0.05318671, 0.94681329],\n",
       "       [0.95584453, 0.04415547],\n",
       "       [0.97492561, 0.02507439],\n",
       "       [0.87732572, 0.12267428],\n",
       "       [0.76961427, 0.23038573],\n",
       "       [0.95414514, 0.04585486],\n",
       "       [0.82266303, 0.17733697],\n",
       "       [0.54248762, 0.45751238],\n",
       "       [0.010187  , 0.989813  ],\n",
       "       [0.94446517, 0.05553483],\n",
       "       [0.00501163, 0.99498837],\n",
       "       [0.68390677, 0.31609323],\n",
       "       [0.09210219, 0.90789781],\n",
       "       [0.09740642, 0.90259358],\n",
       "       [0.03144412, 0.96855588],\n",
       "       [0.65533908, 0.34466092],\n",
       "       [0.94135158, 0.05864842],\n",
       "       [0.57781396, 0.42218604],\n",
       "       [0.9338059 , 0.0661941 ],\n",
       "       [0.50169456, 0.49830544],\n",
       "       [0.90605042, 0.09394958],\n",
       "       [0.82480825, 0.17519175],\n",
       "       [0.93057297, 0.06942703],\n",
       "       [0.91725194, 0.08274806],\n",
       "       [0.81936406, 0.18063594],\n",
       "       [0.21789869, 0.78210131],\n",
       "       [0.9656976 , 0.0343024 ],\n",
       "       [0.24999211, 0.75000789],\n",
       "       [0.0042645 , 0.9957355 ],\n",
       "       [0.96419124, 0.03580876],\n",
       "       [0.72797756, 0.27202244],\n",
       "       [0.89940288, 0.10059712],\n",
       "       [0.81947554, 0.18052446],\n",
       "       [0.57442718, 0.42557282],\n",
       "       [0.8119426 , 0.1880574 ],\n",
       "       [0.91991145, 0.08008855],\n",
       "       [0.57805623, 0.42194377],\n",
       "       [0.92162901, 0.07837099],\n",
       "       [0.00810976, 0.99189024],\n",
       "       [0.00180271, 0.99819729],\n",
       "       [0.81425072, 0.18574928],\n",
       "       [0.95087249, 0.04912751],\n",
       "       [0.98473061, 0.01526939],\n",
       "       [0.35585192, 0.64414808],\n",
       "       [0.95941595, 0.04058405],\n",
       "       [0.46855186, 0.53144814],\n",
       "       [0.89322838, 0.10677162],\n",
       "       [0.1390307 , 0.8609693 ],\n",
       "       [0.62675385, 0.37324615],\n",
       "       [0.0877614 , 0.9122386 ],\n",
       "       [0.76432   , 0.23568   ],\n",
       "       [0.91632041, 0.08367959],\n",
       "       [0.02445451, 0.97554549],\n",
       "       [0.00816359, 0.99183641],\n",
       "       [0.0447864 , 0.9552136 ],\n",
       "       [0.97011623, 0.02988377],\n",
       "       [0.38481192, 0.61518808],\n",
       "       [0.10593994, 0.89406006],\n",
       "       [0.91871268, 0.08128732],\n",
       "       [0.41683035, 0.58316965],\n",
       "       [0.72189557, 0.27810443],\n",
       "       [0.87797646, 0.12202354],\n",
       "       [0.86238583, 0.13761417],\n",
       "       [0.54607456, 0.45392544],\n",
       "       [0.75666271, 0.24333729],\n",
       "       [0.95343112, 0.04656888],\n",
       "       [0.62326627, 0.37673373],\n",
       "       [0.97058212, 0.02941788],\n",
       "       [0.8515769 , 0.1484231 ],\n",
       "       [0.96734055, 0.03265945],\n",
       "       [0.14576257, 0.85423743],\n",
       "       [0.47564124, 0.52435876],\n",
       "       [0.91287616, 0.08712384],\n",
       "       [0.07978525, 0.92021475],\n",
       "       [0.9477    , 0.0523    ],\n",
       "       [0.9456427 , 0.0543573 ],\n",
       "       [0.97474245, 0.02525755],\n",
       "       [0.87600041, 0.12399959],\n",
       "       [0.92548919, 0.07451081],\n",
       "       [0.89558956, 0.10441044],\n",
       "       [0.0953152 , 0.9046848 ],\n",
       "       [0.2036347 , 0.7963653 ],\n",
       "       [0.04916447, 0.95083553],\n",
       "       [0.75653213, 0.24346787],\n",
       "       [0.00585781, 0.99414219]])"
      ]
     },
     "execution_count": 42,
     "metadata": {},
     "output_type": "execute_result"
    }
   ],
   "source": [
    "logreg.predict_proba(X_train)"
   ]
  },
  {
   "cell_type": "markdown",
   "id": "c69a38bb",
   "metadata": {},
   "source": [
    "# Exercise 10 : Evaluate the model\n",
    "\n",
    "1. Find the score of the training data.\n",
    "2. Find the scores of the testing data :-\n",
    "    - Find the accuracy.\n",
    "    - Find the Sensitivity.\n",
    "    - Find the Specificity.\n",
    "    - Find the Sensitivity/Specificity.\n",
    "    - Find the AUC-ROC."
   ]
  },
  {
   "cell_type": "code",
   "execution_count": 43,
   "id": "a7f7d588",
   "metadata": {},
   "outputs": [
    {
     "data": {
      "text/plain": [
       "0.8669527896995708"
      ]
     },
     "execution_count": 43,
     "metadata": {},
     "output_type": "execute_result"
    }
   ],
   "source": [
    "train_score = logreg.score(X_train, Y_train)\n",
    "train_score"
   ]
  },
  {
   "cell_type": "code",
   "execution_count": 44,
   "id": "3b7074bb",
   "metadata": {},
   "outputs": [],
   "source": [
    "Y_pred = logreg.predict(X_test)\n",
    "accuracy = accuracy_score(Y_test, Y_pred)\n",
    "\n",
    "tn, fp, fn, tp = confusion_matrix(Y_test, Y_pred).ravel()\n",
    "\n",
    "sensitivity = tp / (tp + fn)\n",
    "\n",
    "specificity = tn / (tn + fp)\n",
    "\n",
    "sens_spec = sensitivity / specificity\n",
    "\n",
    "auc_roc = roc_auc_score(Y_test, Y_pred)"
   ]
  },
  {
   "cell_type": "code",
   "execution_count": 45,
   "id": "cb18de7a",
   "metadata": {},
   "outputs": [
    {
     "name": "stdout",
     "output_type": "stream",
     "text": [
      "the accuracy is :  0.7966101694915254\n",
      "the sensitivity is :  0.7586206896551724\n",
      "the specificity is :  0.8333333333333334\n",
      "the Sensitivity/Specificity is :  0.9103448275862068\n",
      "the AUC-ROC is :  0.7959770114942528\n"
     ]
    }
   ],
   "source": [
    "print(\"the accuracy is : \",accuracy)\n",
    "print(\"the sensitivity is : \",sensitivity)\n",
    "print(\"the specificity is : \",specificity)\n",
    "print(\"the Sensitivity/Specificity is : \",sens_spec)\n",
    "print(\"the AUC-ROC is : \",auc_roc)"
   ]
  },
  {
   "cell_type": "markdown",
   "id": "41451d51",
   "metadata": {},
   "source": [
    "# Exercise 11 : Find the wights and y intercept"
   ]
  },
  {
   "cell_type": "code",
   "execution_count": 46,
   "id": "468f0919",
   "metadata": {},
   "outputs": [
    {
     "name": "stdout",
     "output_type": "stream",
     "text": [
      "the weights is :  [[-0.05192287  0.75599367  0.23126672  0.01431303  0.00538017 -0.39757991\n",
      "   0.16608655 -0.03738961  0.445416    0.35038147  0.06626356  1.56806736\n",
      "   0.45971398]]\n",
      "the y intercept is :  [-0.05883873]\n"
     ]
    }
   ],
   "source": [
    "weights = logreg.coef_\n",
    "y_intercept = logreg.intercept_\n",
    "print(\"the weights is : \" ,weights)\n",
    "print(\"the y intercept is : \" ,y_intercept)"
   ]
  },
  {
   "cell_type": "markdown",
   "id": "71e67fdd",
   "metadata": {},
   "source": [
    "# Exercise 12 : Plot the model complexity\n",
    "\n",
    "- Is the model overfit? Underfit? Good? Explain"
   ]
  },
  {
   "cell_type": "code",
   "execution_count": null,
   "id": "753e1405",
   "metadata": {},
   "outputs": [],
   "source": [
    "optional"
   ]
  },
  {
   "cell_type": "markdown",
   "id": "586fd49c",
   "metadata": {},
   "source": [
    "# Exercise 13 : Use Regularizations\n",
    "\n",
    "1. Build three models with Lasso Regularization and three different lambda values.\n",
    "2. Build three models with Ridge Regularization and three different lambda values.\n",
    "3. Build three models with Elastic-net Regularization and three different lambda values.\n",
    "\n",
    "In general, you need to build 9 models with different Regularizations and different lambda values.\n",
    "\n",
    "Do not forget to evaluate them (find accuracy, recall, precision, f1 score, AUC-ROC)."
   ]
  },
  {
   "cell_type": "code",
   "execution_count": 47,
   "id": "81f8beb5",
   "metadata": {},
   "outputs": [
    {
     "name": "stdout",
     "output_type": "stream",
     "text": [
      "Model 1: Regularization: Lasso, Lambda: 0.1, \n",
      "Accuracy: 0.75, \n",
      "Recall: 0.62, \n",
      "Precision: 0.82, \n",
      "F1 Score: 0.71, \n",
      "AUC-ROC: 0.80\n",
      "Model 2: Regularization: Lasso, Lambda: 1, \n",
      "Accuracy: 0.61, \n",
      "Recall: 0.45, \n",
      "Precision: 0.65, \n",
      "F1 Score: 0.53, \n",
      "AUC-ROC: 0.66\n",
      "Model 3: Regularization: Lasso, Lambda: 10, \n",
      "Accuracy: 0.51, \n",
      "Recall: 0.00, \n",
      "Precision: 0.00, \n",
      "F1 Score: 0.00, \n",
      "AUC-ROC: 0.50\n",
      "Model 4: Regularization: Ridge, Lambda: 0.1, \n",
      "Accuracy: 0.81, \n",
      "Recall: 0.69, \n",
      "Precision: 0.91, \n",
      "F1 Score: 0.78, \n",
      "AUC-ROC: 0.87\n",
      "Model 5: Regularization: Ridge, Lambda: 1, \n",
      "Accuracy: 0.81, \n",
      "Recall: 0.69, \n",
      "Precision: 0.91, \n",
      "F1 Score: 0.78, \n",
      "AUC-ROC: 0.87\n",
      "Model 6: Regularization: Ridge, Lambda: 10, \n",
      "Accuracy: 0.81, \n",
      "Recall: 0.69, \n",
      "Precision: 0.91, \n",
      "F1 Score: 0.78, \n",
      "AUC-ROC: 0.88\n",
      "Model 7: Regularization: ElasticNet, Lambda: 0.1, \n",
      "Accuracy: 0.78, \n",
      "Recall: 0.66, \n",
      "Precision: 0.86, \n",
      "F1 Score: 0.75, \n",
      "AUC-ROC: 0.82\n",
      "Model 8: Regularization: ElasticNet, Lambda: 1, \n",
      "Accuracy: 0.63, \n",
      "Recall: 0.48, \n",
      "Precision: 0.67, \n",
      "F1 Score: 0.56, \n",
      "AUC-ROC: 0.67\n",
      "Model 9: Regularization: ElasticNet, Lambda: 10, \n",
      "Accuracy: 0.51, \n",
      "Recall: 0.00, \n",
      "Precision: 0.00, \n",
      "F1 Score: 0.00, \n",
      "AUC-ROC: 0.66\n"
     ]
    },
    {
     "name": "stderr",
     "output_type": "stream",
     "text": [
      "C:\\Users\\dalal\\anaconda3\\Lib\\site-packages\\sklearn\\metrics\\_classification.py:1469: UndefinedMetricWarning: Precision is ill-defined and being set to 0.0 due to no predicted samples. Use `zero_division` parameter to control this behavior.\n",
      "  _warn_prf(average, modifier, msg_start, len(result))\n",
      "C:\\Users\\dalal\\anaconda3\\Lib\\site-packages\\sklearn\\metrics\\_classification.py:1469: UndefinedMetricWarning: Precision is ill-defined and being set to 0.0 due to no predicted samples. Use `zero_division` parameter to control this behavior.\n",
      "  _warn_prf(average, modifier, msg_start, len(result))\n"
     ]
    }
   ],
   "source": [
    "lambdas = [0.1, 1, 10]\n",
    "lasso_models = []\n",
    "for l in lambdas:\n",
    "    lasso = Lasso(alpha=l)\n",
    "    lasso.fit(X_train, Y_train)\n",
    "    lasso_models.append(lasso)\n",
    "\n",
    "ridge_models = []\n",
    "for l in lambdas:\n",
    "    ridge = Ridge(alpha=l)\n",
    "    ridge.fit(X_train, Y_train)\n",
    "    ridge_models.append(ridge)\n",
    "\n",
    "elastic_models = []\n",
    "for l in lambdas:\n",
    "    elastic = ElasticNet(alpha=l)\n",
    "    elastic.fit(X_train, Y_train)\n",
    "    elastic_models.append(elastic)\n",
    "\n",
    "for i, model in enumerate(lasso_models + ridge_models + elastic_models):\n",
    "    Y_pred = model.predict(X_test)\n",
    "    accuracy = accuracy_score(Y_test, Y_pred.round())\n",
    "    recall = recall_score(Y_test, Y_pred.round())\n",
    "    precision = precision_score(Y_test, Y_pred.round())\n",
    "    f1 = f1_score(Y_test, Y_pred.round())\n",
    "    auc_roc = roc_auc_score(Y_test, Y_pred)\n",
    "    print(f\"Model {i+1}: Regularization: {model.__class__.__name__}, Lambda: {lambdas[i%3]}, \\nAccuracy: {accuracy:.2f}, \\nRecall: {recall:.2f}, \\nPrecision: {precision:.2f}, \\nF1 Score: {f1:.2f}, \\nAUC-ROC: {auc_roc:.2f}\")\n"
   ]
  },
  {
   "cell_type": "code",
   "execution_count": null,
   "id": "7a55303b",
   "metadata": {},
   "outputs": [],
   "source": []
  }
 ],
 "metadata": {
  "kernelspec": {
   "display_name": "Python 3 (ipykernel)",
   "language": "python",
   "name": "python3"
  },
  "language_info": {
   "codemirror_mode": {
    "name": "ipython",
    "version": 3
   },
   "file_extension": ".py",
   "mimetype": "text/x-python",
   "name": "python",
   "nbconvert_exporter": "python",
   "pygments_lexer": "ipython3",
   "version": "3.11.4"
  }
 },
 "nbformat": 4,
 "nbformat_minor": 5
}
